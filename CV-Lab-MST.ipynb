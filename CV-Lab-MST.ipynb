{
 "cells": [
  {
   "cell_type": "code",
   "execution_count": 1,
   "id": "006aab00",
   "metadata": {},
   "outputs": [
    {
     "name": "stdout",
     "output_type": "stream",
     "text": [
      "Frames per second using video.get(cv2.CAP_PROP_FPS) : 29.971\n"
     ]
    }
   ],
   "source": [
    "import cv2\n",
    "import time\n",
    "if __name__ == '__main__' :\n",
    "\n",
    "    video = cv2.VideoCapture(\"dog.mp4\");\n",
    "\n",
    "    # Find OpenCV version\n",
    "    (major_ver, minor_ver, subminor_ver) = (cv2.__version__).split('.')\n",
    "\n",
    "    if int(major_ver)  < 3 :\n",
    "        fps = video.get(cv2.cv.CV_CAP_PROP_FPS)\n",
    "        print (\"Frames per second using video.get(cv2.cv.CV_CAP_PROP_FPS): {0}\".format(fps))\n",
    "    else :\n",
    "        fps = video.get(cv2.CAP_PROP_FPS)\n",
    "        print (\"Frames per second using video.get(cv2.CAP_PROP_FPS) : {0}\".format(fps))\n",
    "\n",
    "    video.release()"
   ]
  },
  {
   "cell_type": "code",
   "execution_count": 2,
   "id": "7568c043",
   "metadata": {},
   "outputs": [],
   "source": [
    "#Capturing the Video in Cap\n",
    "cap = cv2.VideoCapture('dog.mp4')\n",
    "\n",
    "#Declaring Previous and New Frame time as 0.\n",
    "prev_frame_time = 0\n",
    "new_frame_time = 0\n",
    "\n",
    "while(cap.isOpened()):\n",
    "\tret, frame = cap.read()\n",
    "\tif not ret:\n",
    "\t\tbreak\n",
    "\tgray = frame\n",
    "\tgray = cv2.resize(gray, (600, 300))\n",
    "\tfont = cv2.FONT_HERSHEY_SIMPLEX\n",
    "\tnew_frame_time = time.time()\n",
    "\tfps = 1/(new_frame_time-prev_frame_time)\n",
    "\tprev_frame_time = new_frame_time\n",
    "\n",
    "#Converting the FPS into Integer \n",
    "\tfps = int(fps)\n",
    "\n",
    "#Converting the FPS to String to display it\n",
    "\tfps = str(fps)\n",
    "\n",
    "#Putting the Frame Rate on Frame \n",
    "\tcv2.putText(gray, fps, (7, 70), font, 3, (125, 255, 125), 3, cv2.LINE_AA)\n",
    "    \n",
    "\t#Displaying the Video with Frame Rate \n",
    "\tcv2.imshow('Frames in Video Dog.mp4', gray)\n",
    "\n",
    "\t#Press Q to exit\n",
    "\tif cv2.waitKey(1) & 0xFF == ord('q'):\n",
    "\t\tbreak\n",
    "\n",
    "#When completed the task, releasing the capture. \n",
    "cap.release()\n",
    "\n",
    "#Destroying all windows now\n",
    "cv2.destroyAllWindows()\n"
   ]
  },
  {
   "cell_type": "code",
   "execution_count": 4,
   "id": "67ff643e",
   "metadata": {},
   "outputs": [],
   "source": [
    "import cv2\n",
    "vidcap = cv2.VideoCapture('dog.mp4')\n",
    "true, image = vidcap.read()\n",
    "count = 100\n",
    "while true:\n",
    "  cv2.imwrite(\"Frame\", image)     # save frame as JPEG file      \n",
    "  true, image = vidcap.read()"
   ]
  },
  {
   "cell_type": "code",
   "execution_count": 6,
   "id": "b50fa97a",
   "metadata": {},
   "outputs": [
    {
     "ename": "error",
     "evalue": "OpenCV(4.5.3) /private/var/folders/24/8k48jl6d249_n_qfxwsl6xvm0000gn/T/pip-req-build-vy_omupv/opencv/modules/imgcodecs/src/loadsave.cpp:732: error: (-2:Unspecified error) could not find a writer for the specified extension in function 'imwrite_'\n",
     "output_type": "error",
     "traceback": [
      "\u001b[0;31m---------------------------------------------------------------------------\u001b[0m",
      "\u001b[0;31merror\u001b[0m                                     Traceback (most recent call last)",
      "\u001b[0;32m/var/folders/wy/hnrqc9mx2kb7wws_jg_xdwf40000gn/T/ipykernel_44640/2849995477.py\u001b[0m in \u001b[0;36m<module>\u001b[0;34m\u001b[0m\n\u001b[1;32m      4\u001b[0m \u001b[0mvideo\u001b[0m\u001b[0;34m.\u001b[0m\u001b[0mset\u001b[0m\u001b[0;34m(\u001b[0m\u001b[0;36m1\u001b[0m\u001b[0;34m,\u001b[0m \u001b[0;36m100\u001b[0m\u001b[0;34m)\u001b[0m \u001b[0;31m#100th Frame\u001b[0m\u001b[0;34m\u001b[0m\u001b[0;34m\u001b[0m\u001b[0m\n\u001b[1;32m      5\u001b[0m \u001b[0mtrue\u001b[0m\u001b[0;34m,\u001b[0m \u001b[0mimg\u001b[0m \u001b[0;34m=\u001b[0m \u001b[0mvideo\u001b[0m\u001b[0;34m.\u001b[0m\u001b[0mread\u001b[0m\u001b[0;34m(\u001b[0m\u001b[0;34m)\u001b[0m\u001b[0;34m\u001b[0m\u001b[0;34m\u001b[0m\u001b[0m\n\u001b[0;32m----> 6\u001b[0;31m \u001b[0mcv2\u001b[0m\u001b[0;34m.\u001b[0m\u001b[0mimwrite\u001b[0m\u001b[0;34m(\u001b[0m\u001b[0;34m\"100thFrame\"\u001b[0m\u001b[0;34m,\u001b[0m \u001b[0mimg\u001b[0m\u001b[0;34m)\u001b[0m\u001b[0;34m\u001b[0m\u001b[0;34m\u001b[0m\u001b[0m\n\u001b[0m",
      "\u001b[0;31merror\u001b[0m: OpenCV(4.5.3) /private/var/folders/24/8k48jl6d249_n_qfxwsl6xvm0000gn/T/pip-req-build-vy_omupv/opencv/modules/imgcodecs/src/loadsave.cpp:732: error: (-2:Unspecified error) could not find a writer for the specified extension in function 'imwrite_'\n"
     ]
    }
   ],
   "source": [
    "import cv2\n",
    "video = cv2.VideoCapture('dog.mp4')\n",
    "total_frames = video.get(7)\n",
    "video.set(1, 100) #100th Frame\n",
    "true, img = video.read()\n",
    "cv2.imwrite(\"100thFrame\", img)"
   ]
  },
  {
   "cell_type": "code",
   "execution_count": null,
   "id": "fbdb8a8a",
   "metadata": {},
   "outputs": [],
   "source": []
  }
 ],
 "metadata": {
  "kernelspec": {
   "display_name": "Python 3 (ipykernel)",
   "language": "python",
   "name": "python3"
  },
  "language_info": {
   "codemirror_mode": {
    "name": "ipython",
    "version": 3
   },
   "file_extension": ".py",
   "mimetype": "text/x-python",
   "name": "python",
   "nbconvert_exporter": "python",
   "pygments_lexer": "ipython3",
   "version": "3.9.7"
  }
 },
 "nbformat": 4,
 "nbformat_minor": 5
}

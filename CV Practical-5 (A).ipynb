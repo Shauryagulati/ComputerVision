{
 "cells": [
  {
   "cell_type": "markdown",
   "metadata": {},
   "source": [
    "<b> Aim: To implement handtracking using mediapipe in python and OpenCV. </b>"
   ]
  },
  {
   "cell_type": "code",
   "execution_count": 1,
   "metadata": {},
   "outputs": [],
   "source": [
    "# Importing necessary modules.\n",
    "import cv2\n",
    "import mediapipe as mp"
   ]
  },
  {
   "cell_type": "markdown",
   "metadata": {},
   "source": [
    "<b> Storing the Video <b>"
   ]
  },
  {
   "cell_type": "code",
   "execution_count": 2,
   "metadata": {},
   "outputs": [],
   "source": [
    "# Creating a variable to store the video using the '.VideoCapture()' function.\n",
    "cap=cv2.VideoCapture(r\"C:\\Users\\gauri\\Desktop\\OpenCV Media\\hands.mp4\")\n",
    "\n",
    "# Importing 'mp.solutions.hands' to a variable 'mpsh'.\n",
    "mpsh=mp.solutions.hands\n",
    "# Declaring the object 'hands' from 'mp.solutions'.\n",
    "hands=mpsh.Hands()\n",
    "# Importing 'mp.solutions.hands' to a variable 'mpsdu'.\n",
    "# We will use 'drawing_utils' to draw the key points.\n",
    "mpsdu=mp.solutions.drawing_utils"
   ]
  },
  {
   "cell_type": "markdown",
   "metadata": {},
   "source": [
    "<b> Logic and the Driver Code </b>"
   ]
  },
  {
   "cell_type": "code",
   "execution_count": null,
   "metadata": {},
   "outputs": [],
   "source": [
    "while True:\n",
    "    # Capturing the video frame by frame using the '.read()' method.\n",
    "    success,frame=cap.read()\n",
    "    # Reading the frames and converting them to RGB.\n",
    "    frame_RGB=cv2.cvtColor(frame, cv2.COLOR_BGR2RGB)\n",
    "\n",
    "    # Detecting hands in the frame using the function 'hands.process()'.\n",
    "    results=hands.process(frame_RGB)\n",
    "    # Printing the results.\n",
    "    #print(results.multi_hand_landmarks)\n",
    "\n",
    "    # If hands are detected that is 'results.multi_hand_landmarks' returns true:\n",
    "    if results.multi_hand_landmarks:\n",
    "        # For 'handLms' variable in 'results.multi_hand_landmarks':\n",
    "        for handLms in results.multi_hand_landmarks:\n",
    "            # Looping through the 'handLms' variable to find out the coordinates of each key point.\n",
    "            for id, lm in enumerate(handLms.landmark):\n",
    "                # Printing the landmarks and 'ids'.\n",
    "                print(id, lm)\n",
    "\n",
    "                # Declaring the variables 'h', 'w' and 'c'.\n",
    "                h,w,c=frame.shape\n",
    "\n",
    "                # Declaring the variables of the 'x' and 'y' coordinates.\n",
    "                cx,cy=int(lm.x*w), int(lm.y*h)\n",
    "\n",
    "                # Numbering the key points.\n",
    "                cv2.putText(frame, str(int(id)), (cx + 10, cy + 10), cv2.FONT_HERSHEY_COMPLEX_SMALL,\n",
    "                            1, (254, 31, 79), 2)\n",
    "\n",
    "                # Printing the 'id' and the coordinates of the key points.\n",
    "                print(id, cx, cy)\n",
    "\n",
    "                # Highlighting the key points.\n",
    "                cv2.circle(frame, (cx,cy), 10, (31,79,254), cv2.FILLED)\n",
    "\n",
    "        # Connecting the key points using the function 'mpsdu.draw_landmarks()'.\n",
    "        mpsdu.draw_landmarks(frame, handLms, mpsh.HAND_CONNECTIONS)\n",
    "\n",
    "        # Rendering the video with effective Handtracking to the console by using the function '.imshow()'.\n",
    "        cv2.imshow(\"Hand Tracking\", frame)\n",
    "\n",
    "        # Setting up '.waitkey()' to wait for a specific time until any key is pressed and break the loop.\n",
    "        cv2.waitKey(1)\n"
   ]
  },
  {
   "cell_type": "code",
   "execution_count": null,
   "metadata": {},
   "outputs": [],
   "source": []
  }
 ],
 "metadata": {
  "kernelspec": {
   "display_name": "Python 3",
   "language": "python",
   "name": "python3"
  },
  "language_info": {
   "codemirror_mode": {
    "name": "ipython",
    "version": 3
   },
   "file_extension": ".py",
   "mimetype": "text/x-python",
   "name": "python",
   "nbconvert_exporter": "python",
   "pygments_lexer": "ipython3",
   "version": "3.9.7"
  }
 },
 "nbformat": 4,
 "nbformat_minor": 4
}

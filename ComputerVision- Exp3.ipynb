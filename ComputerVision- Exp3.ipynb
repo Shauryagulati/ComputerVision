{
 "cells": [
  {
   "cell_type": "code",
   "execution_count": 1,
   "id": "4baba75a",
   "metadata": {},
   "outputs": [
    {
     "data": {
      "text/plain": [
       "-1"
      ]
     },
     "execution_count": 1,
     "metadata": {},
     "output_type": "execute_result"
    }
   ],
   "source": [
    "import cv2\n",
    "\n",
    "import numpy as np\n",
    "\n",
    "img = cv2.imread(\"Pexels.jpg\")\n",
    "\n",
    "width,height = 250,350\n",
    "\n",
    "pts1 = np.float32([[111,219],[287,188],[154,482],[352,440]])\n",
    "\n",
    "pts2 = np.float32([[0,0],[width,0],[0,height],[width,height]])\n",
    "\n",
    "matrix = cv2.getPerspectiveTransform(pts1,pts2)\n",
    "\n",
    "imgOutput = cv2.warpPerspective(img,matrix,(width,height))\n",
    "\n",
    "cv2.imshow(\"Image\",img)\n",
    "\n",
    "cv2.imshow(\"Output\",imgOutput)\n",
    "\n",
    "cv2.waitKey(10)"
   ]
  },
  {
   "cell_type": "code",
   "execution_count": null,
   "id": "56ef2995",
   "metadata": {},
   "outputs": [],
   "source": []
  }
 ],
 "metadata": {
  "kernelspec": {
   "display_name": "Python 3.9.7 64-bit",
   "language": "python",
   "name": "python397jvsc74a57bd0aee8b7b246df8f9039afb4144a1f6fd8d2ca17a180786b69acc140d282b71a49"
  },
  "language_info": {
   "codemirror_mode": {
    "name": "ipython",
    "version": 3
   },
   "file_extension": ".py",
   "mimetype": "text/x-python",
   "name": "python",
   "nbconvert_exporter": "python",
   "pygments_lexer": "ipython3",
   "version": "3.9.7"
  }
 },
 "nbformat": 4,
 "nbformat_minor": 5
}

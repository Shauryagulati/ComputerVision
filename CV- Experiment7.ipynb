{
 "cells": [
  {
   "cell_type": "markdown",
   "id": "1e230a96",
   "metadata": {},
   "source": [
    "# 18BCS6092-CV Practical-7 (Shaurya Gulati) (AIMl- 1)(B)"
   ]
  },
  {
   "cell_type": "markdown",
   "id": "f9705c84",
   "metadata": {},
   "source": [
    "<b> Aim: To implement face detection using HAAR cascades  using mediapipe in python and OpenCV. </b>"
   ]
  },
  {
   "cell_type": "code",
   "execution_count": 7,
   "id": "77e50414",
   "metadata": {},
   "outputs": [],
   "source": [
    "import cv2\n",
    "import mediapipe as mp\n",
    "\n",
    "mp_face_detection = mp.solutions.face_detection\n",
    "mp_drawing = mp.solutions.drawing_utils"
   ]
  },
  {
   "cell_type": "code",
   "execution_count": 8,
   "id": "c8cdb1ec",
   "metadata": {},
   "outputs": [
    {
     "name": "stdout",
     "output_type": "stream",
     "text": [
      "[[ 686 1081 1188 1188]\n",
      " [ 895 3344  151  151]]\n"
     ]
    }
   ],
   "source": [
    "face_cascade = cv2.CascadeClassifier(cv2.data.haarcascades + 'haarcascade_frontalface_default.xml')\n",
    "eye_cascade = cv2.CascadeClassifier(cv2.data.haarcascades + 'haarcascade_eye.xml')\n",
    "\n",
    "img = cv2.imread(r\"Valera.jpg\")\n",
    "gray = cv2.cvtColor(img, cv2.COLOR_BGR2GRAY)\n",
    "\n",
    "faces = face_cascade.detectMultiScale(gray, 1.3, 5)\n",
    "\n",
    "print(faces)\n",
    "\n",
    "\n",
    "for (x,y,w,h) in faces:\n",
    "    img = cv2.rectangle(img,(x,y),(x+w,y+h),(31,79,254),2)"
   ]
  },
  {
   "cell_type": "code",
   "execution_count": 9,
   "id": "73680319",
   "metadata": {},
   "outputs": [],
   "source": [
    "cv2.imshow('Face Detection on Image using Mediapipe', img)"
   ]
  },
  {
   "cell_type": "code",
   "execution_count": 5,
   "id": "1b9699d7",
   "metadata": {},
   "outputs": [],
   "source": [
    "cv2.destroyAllWindows()\n",
    "for i in range (1,5):\n",
    "    cv2.waitKey(1)"
   ]
  },
  {
   "cell_type": "code",
   "execution_count": null,
   "id": "e072603b",
   "metadata": {},
   "outputs": [],
   "source": []
  }
 ],
 "metadata": {
  "interpreter": {
   "hash": "aee8b7b246df8f9039afb4144a1f6fd8d2ca17a180786b69acc140d282b71a49"
  },
  "kernelspec": {
   "display_name": "Python 3.9.7 64-bit",
   "name": "python3"
  },
  "language_info": {
   "codemirror_mode": {
    "name": "ipython",
    "version": 3
   },
   "file_extension": ".py",
   "mimetype": "text/x-python",
   "name": "python",
   "nbconvert_exporter": "python",
   "pygments_lexer": "ipython3",
   "version": "3.9.7"
  }
 },
 "nbformat": 4,
 "nbformat_minor": 5
}
